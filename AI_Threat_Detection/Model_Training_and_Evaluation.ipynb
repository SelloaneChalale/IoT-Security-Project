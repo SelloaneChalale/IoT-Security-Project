{
 "cells": [
  {
   "cell_type": "code",
   "execution_count": 5,
   "id": "85cff7d6-79e9-4b54-b6dc-2860452dc3bc",
   "metadata": {},
   "outputs": [
    {
     "name": "stdout",
     "output_type": "stream",
     "text": [
      "Requirement already satisfied: pandas in c:\\users\\pc\\iot_security_project\\ai_threat_detection\\env\\lib\\site-packages (2.2.3)\n",
      "Requirement already satisfied: numpy>=1.26.0 in c:\\users\\pc\\iot_security_project\\ai_threat_detection\\env\\lib\\site-packages (from pandas) (2.1.3)\n",
      "Requirement already satisfied: python-dateutil>=2.8.2 in c:\\users\\pc\\iot_security_project\\ai_threat_detection\\env\\lib\\site-packages (from pandas) (2.9.0.post0)\n",
      "Requirement already satisfied: pytz>=2020.1 in c:\\users\\pc\\iot_security_project\\ai_threat_detection\\env\\lib\\site-packages (from pandas) (2024.2)\n",
      "Requirement already satisfied: tzdata>=2022.7 in c:\\users\\pc\\iot_security_project\\ai_threat_detection\\env\\lib\\site-packages (from pandas) (2024.2)\n",
      "Requirement already satisfied: six>=1.5 in c:\\users\\pc\\iot_security_project\\ai_threat_detection\\env\\lib\\site-packages (from python-dateutil>=2.8.2->pandas) (1.16.0)\n",
      "Note: you may need to restart the kernel to use updated packages.\n"
     ]
    },
    {
     "name": "stderr",
     "output_type": "stream",
     "text": [
      "\n",
      "[notice] A new release of pip is available: 24.2 -> 24.3.1\n",
      "[notice] To update, run: C:\\Users\\PC\\IoT_Security_Project\\AI_Threat_Detection\\env\\Scripts\\python.exe -m pip install --upgrade pip\n"
     ]
    },
    {
     "name": "stdout",
     "output_type": "stream",
     "text": [
      "Requirement already satisfied: scikit-learn in c:\\users\\pc\\iot_security_project\\ai_threat_detection\\env\\lib\\site-packages (1.5.2)Note: you may need to restart the kernel to use updated packages.\n",
      "\n",
      "Requirement already satisfied: numpy>=1.19.5 in c:\\users\\pc\\iot_security_project\\ai_threat_detection\\env\\lib\\site-packages (from scikit-learn) (2.1.3)\n",
      "Requirement already satisfied: scipy>=1.6.0 in c:\\users\\pc\\iot_security_project\\ai_threat_detection\\env\\lib\\site-packages (from scikit-learn) (1.14.1)\n",
      "Requirement already satisfied: joblib>=1.2.0 in c:\\users\\pc\\iot_security_project\\ai_threat_detection\\env\\lib\\site-packages (from scikit-learn) (1.4.2)\n",
      "Requirement already satisfied: threadpoolctl>=3.1.0 in c:\\users\\pc\\iot_security_project\\ai_threat_detection\\env\\lib\\site-packages (from scikit-learn) (3.5.0)\n"
     ]
    },
    {
     "name": "stderr",
     "output_type": "stream",
     "text": [
      "\n",
      "[notice] A new release of pip is available: 24.2 -> 24.3.1\n",
      "[notice] To update, run: C:\\Users\\PC\\IoT_Security_Project\\AI_Threat_Detection\\env\\Scripts\\python.exe -m pip install --upgrade pip\n"
     ]
    },
    {
     "name": "stdout",
     "output_type": "stream",
     "text": [
      "Collecting web3\n",
      "  Downloading web3-7.4.0-py3-none-any.whl.metadata (5.3 kB)\n",
      "Collecting eth-abi>=5.0.1 (from web3)\n",
      "  Using cached eth_abi-5.1.0-py3-none-any.whl.metadata (5.1 kB)\n",
      "Collecting eth-account>=0.13.1 (from web3)\n",
      "  Using cached eth_account-0.13.4-py3-none-any.whl.metadata (5.3 kB)\n",
      "Collecting eth-hash>=0.5.1 (from eth-hash[pycryptodome]>=0.5.1->web3)\n",
      "  Using cached eth_hash-0.7.0-py3-none-any.whl.metadata (5.4 kB)\n",
      "Collecting eth-typing>=5.0.0 (from web3)\n",
      "  Using cached eth_typing-5.0.1-py3-none-any.whl.metadata (5.1 kB)\n",
      "Collecting eth-utils>=5.0.0 (from web3)\n",
      "  Downloading eth_utils-5.1.0-py3-none-any.whl.metadata (5.3 kB)\n",
      "Collecting hexbytes>=1.2.0 (from web3)\n",
      "  Downloading hexbytes-1.2.1-py3-none-any.whl.metadata (3.7 kB)\n",
      "Collecting aiohttp>=3.7.4.post0 (from web3)\n",
      "  Using cached aiohttp-3.10.10-cp312-cp312-win_amd64.whl.metadata (7.8 kB)\n",
      "Collecting pydantic>=2.4.0 (from web3)\n",
      "  Downloading pydantic-2.9.2-py3-none-any.whl.metadata (149 kB)\n",
      "Collecting requests>=2.23.0 (from web3)\n",
      "  Using cached requests-2.32.3-py3-none-any.whl.metadata (4.6 kB)\n",
      "Collecting typing-extensions>=4.0.1 (from web3)\n",
      "  Using cached typing_extensions-4.12.2-py3-none-any.whl.metadata (3.0 kB)\n",
      "Collecting types-requests>=2.0.0 (from web3)\n",
      "  Downloading types_requests-2.32.0.20241016-py3-none-any.whl.metadata (1.9 kB)\n",
      "Collecting websockets>=10.0.0 (from web3)\n",
      "  Using cached websockets-13.1-cp312-cp312-win_amd64.whl.metadata (7.0 kB)\n",
      "Collecting pyunormalize>=15.0.0 (from web3)\n",
      "  Using cached pyunormalize-16.0.0-py3-none-any.whl.metadata (4.0 kB)\n",
      "Requirement already satisfied: pywin32>=223 in c:\\users\\pc\\iot_security_project\\ai_threat_detection\\env\\lib\\site-packages (from web3) (308)\n",
      "Collecting aiohappyeyeballs>=2.3.0 (from aiohttp>=3.7.4.post0->web3)\n",
      "  Using cached aiohappyeyeballs-2.4.3-py3-none-any.whl.metadata (6.1 kB)\n",
      "Collecting aiosignal>=1.1.2 (from aiohttp>=3.7.4.post0->web3)\n",
      "  Using cached aiosignal-1.3.1-py3-none-any.whl.metadata (4.0 kB)\n",
      "Collecting attrs>=17.3.0 (from aiohttp>=3.7.4.post0->web3)\n",
      "  Using cached attrs-24.2.0-py3-none-any.whl.metadata (11 kB)\n",
      "Collecting frozenlist>=1.1.1 (from aiohttp>=3.7.4.post0->web3)\n",
      "  Downloading frozenlist-1.5.0-cp312-cp312-win_amd64.whl.metadata (14 kB)\n",
      "Collecting multidict<7.0,>=4.5 (from aiohttp>=3.7.4.post0->web3)\n",
      "  Using cached multidict-6.1.0-cp312-cp312-win_amd64.whl.metadata (5.1 kB)\n",
      "Collecting yarl<2.0,>=1.12.0 (from aiohttp>=3.7.4.post0->web3)\n",
      "  Downloading yarl-1.17.1-cp312-cp312-win_amd64.whl.metadata (66 kB)\n",
      "Collecting parsimonious<0.11.0,>=0.10.0 (from eth-abi>=5.0.1->web3)\n",
      "  Using cached parsimonious-0.10.0-py3-none-any.whl.metadata (25 kB)\n",
      "Collecting bitarray>=2.4.0 (from eth-account>=0.13.1->web3)\n",
      "  Using cached bitarray-3.0.0-cp312-cp312-win_amd64.whl.metadata (33 kB)\n",
      "Collecting eth-keyfile<0.9.0,>=0.7.0 (from eth-account>=0.13.1->web3)\n",
      "  Using cached eth_keyfile-0.8.1-py3-none-any.whl.metadata (8.5 kB)\n",
      "Collecting eth-keys>=0.4.0 (from eth-account>=0.13.1->web3)\n",
      "  Downloading eth_keys-0.6.0-py3-none-any.whl.metadata (13 kB)\n",
      "Collecting eth-rlp>=2.1.0 (from eth-account>=0.13.1->web3)\n",
      "  Using cached eth_rlp-2.1.0-py3-none-any.whl.metadata (4.6 kB)\n",
      "Collecting rlp>=1.0.0 (from eth-account>=0.13.1->web3)\n",
      "  Using cached rlp-4.0.1-py3-none-any.whl.metadata (4.6 kB)\n",
      "Collecting ckzg>=2.0.0 (from eth-account>=0.13.1->web3)\n",
      "  Downloading ckzg-2.0.1-cp312-cp312-win_amd64.whl.metadata (718 bytes)\n",
      "Collecting pycryptodome<4,>=3.6.6 (from eth-hash[pycryptodome]>=0.5.1->web3)\n",
      "  Using cached pycryptodome-3.21.0-cp36-abi3-win_amd64.whl.metadata (3.4 kB)\n",
      "Collecting cytoolz>=0.10.1 (from eth-utils>=5.0.0->web3)\n",
      "  Using cached cytoolz-1.0.0-cp312-cp312-win_amd64.whl.metadata (4.6 kB)\n",
      "Collecting annotated-types>=0.6.0 (from pydantic>=2.4.0->web3)\n",
      "  Downloading annotated_types-0.7.0-py3-none-any.whl.metadata (15 kB)\n",
      "Collecting pydantic-core==2.23.4 (from pydantic>=2.4.0->web3)\n",
      "  Downloading pydantic_core-2.23.4-cp312-none-win_amd64.whl.metadata (6.7 kB)\n",
      "Collecting charset-normalizer<4,>=2 (from requests>=2.23.0->web3)\n",
      "  Using cached charset_normalizer-3.4.0-cp312-cp312-win_amd64.whl.metadata (34 kB)\n",
      "Collecting idna<4,>=2.5 (from requests>=2.23.0->web3)\n",
      "  Using cached idna-3.10-py3-none-any.whl.metadata (10 kB)\n",
      "Collecting urllib3<3,>=1.21.1 (from requests>=2.23.0->web3)\n",
      "  Using cached urllib3-2.2.3-py3-none-any.whl.metadata (6.5 kB)\n",
      "Collecting certifi>=2017.4.17 (from requests>=2.23.0->web3)\n",
      "  Using cached certifi-2024.8.30-py3-none-any.whl.metadata (2.2 kB)\n",
      "Collecting toolz>=0.8.0 (from cytoolz>=0.10.1->eth-utils>=5.0.0->web3)\n",
      "  Using cached toolz-1.0.0-py3-none-any.whl.metadata (5.1 kB)\n",
      "Collecting regex>=2022.3.15 (from parsimonious<0.11.0,>=0.10.0->eth-abi>=5.0.1->web3)\n",
      "  Using cached regex-2024.9.11-cp312-cp312-win_amd64.whl.metadata (41 kB)\n",
      "Collecting propcache>=0.2.0 (from yarl<2.0,>=1.12.0->aiohttp>=3.7.4.post0->web3)\n",
      "  Using cached propcache-0.2.0-cp312-cp312-win_amd64.whl.metadata (7.9 kB)\n",
      "Downloading web3-7.4.0-py3-none-any.whl (1.3 MB)\n",
      "   ---------------------------------------- 0.0/1.3 MB ? eta -:--:--\n",
      "   ------- -------------------------------- 0.3/1.3 MB ? eta -:--:--\n",
      "   ------- -------------------------------- 0.3/1.3 MB ? eta -:--:--\n",
      "   --------------- ------------------------ 0.5/1.3 MB 1.0 MB/s eta 0:00:01\n",
      "   ----------------------- ---------------- 0.8/1.3 MB 1.1 MB/s eta 0:00:01\n",
      "   ----------------------- ---------------- 0.8/1.3 MB 1.1 MB/s eta 0:00:01\n",
      "   ------------------------------- -------- 1.0/1.3 MB 839.3 kB/s eta 0:00:01\n",
      "   ---------------------------------------  1.3/1.3 MB 828.9 kB/s eta 0:00:01\n",
      "   ---------------------------------------- 1.3/1.3 MB 796.2 kB/s eta 0:00:00\n",
      "Using cached aiohttp-3.10.10-cp312-cp312-win_amd64.whl (379 kB)\n",
      "Using cached eth_abi-5.1.0-py3-none-any.whl (29 kB)\n",
      "Downloading eth_account-0.13.4-py3-none-any.whl (581 kB)\n",
      "   ---------------------------------------- 0.0/581.4 kB ? eta -:--:--\n",
      "   ---------------------------------------- 0.0/581.4 kB ? eta -:--:--\n",
      "   ---------------------------------------- 0.0/581.4 kB ? eta -:--:--\n",
      "   ------------------ --------------------- 262.1/581.4 kB ? eta -:--:--\n",
      "   ---------------------------------------- 581.4/581.4 kB 1.4 MB/s eta 0:00:00\n",
      "Using cached eth_hash-0.7.0-py3-none-any.whl (8.7 kB)\n",
      "Using cached eth_typing-5.0.1-py3-none-any.whl (20 kB)\n",
      "Downloading eth_utils-5.1.0-py3-none-any.whl (100 kB)\n",
      "Downloading hexbytes-1.2.1-py3-none-any.whl (5.2 kB)\n",
      "Downloading pydantic-2.9.2-py3-none-any.whl (434 kB)\n",
      "Downloading pydantic_core-2.23.4-cp312-none-win_amd64.whl (1.9 MB)\n",
      "   ---------------------------------------- 0.0/1.9 MB ? eta -:--:--\n",
      "   ----- ---------------------------------- 0.3/1.9 MB ? eta -:--:--\n",
      "   ---------- ----------------------------- 0.5/1.9 MB 1.7 MB/s eta 0:00:01\n",
      "   ---------------- ----------------------- 0.8/1.9 MB 1.4 MB/s eta 0:00:01\n",
      "   --------------------- ------------------ 1.0/1.9 MB 1.4 MB/s eta 0:00:01\n",
      "   --------------------------- ------------ 1.3/1.9 MB 1.3 MB/s eta 0:00:01\n",
      "   -------------------------------- ------- 1.6/1.9 MB 1.4 MB/s eta 0:00:01\n",
      "   -------------------------------- ------- 1.6/1.9 MB 1.4 MB/s eta 0:00:01\n",
      "   ---------------------------------------- 1.9/1.9 MB 1.2 MB/s eta 0:00:00\n",
      "Using cached pyunormalize-16.0.0-py3-none-any.whl (49 kB)\n",
      "Using cached requests-2.32.3-py3-none-any.whl (64 kB)\n",
      "Downloading types_requests-2.32.0.20241016-py3-none-any.whl (15 kB)\n",
      "Using cached typing_extensions-4.12.2-py3-none-any.whl (37 kB)\n",
      "Using cached websockets-13.1-cp312-cp312-win_amd64.whl (159 kB)\n",
      "Using cached aiohappyeyeballs-2.4.3-py3-none-any.whl (14 kB)\n",
      "Using cached aiosignal-1.3.1-py3-none-any.whl (7.6 kB)\n",
      "Downloading annotated_types-0.7.0-py3-none-any.whl (13 kB)\n",
      "Using cached attrs-24.2.0-py3-none-any.whl (63 kB)\n",
      "Using cached bitarray-3.0.0-cp312-cp312-win_amd64.whl (121 kB)\n",
      "Using cached certifi-2024.8.30-py3-none-any.whl (167 kB)\n",
      "Using cached charset_normalizer-3.4.0-cp312-cp312-win_amd64.whl (102 kB)\n",
      "Downloading ckzg-2.0.1-cp312-cp312-win_amd64.whl (98 kB)\n",
      "Using cached cytoolz-1.0.0-cp312-cp312-win_amd64.whl (364 kB)\n",
      "Using cached eth_keyfile-0.8.1-py3-none-any.whl (7.5 kB)\n",
      "Downloading eth_keys-0.6.0-py3-none-any.whl (21 kB)\n",
      "Downloading eth_rlp-2.1.0-py3-none-any.whl (5.1 kB)\n",
      "Downloading frozenlist-1.5.0-cp312-cp312-win_amd64.whl (51 kB)\n",
      "Using cached idna-3.10-py3-none-any.whl (70 kB)\n",
      "Using cached multidict-6.1.0-cp312-cp312-win_amd64.whl (28 kB)\n",
      "Using cached parsimonious-0.10.0-py3-none-any.whl (48 kB)\n",
      "Using cached pycryptodome-3.21.0-cp36-abi3-win_amd64.whl (1.8 MB)\n",
      "Using cached rlp-4.0.1-py3-none-any.whl (20 kB)\n",
      "Using cached urllib3-2.2.3-py3-none-any.whl (126 kB)\n",
      "Downloading yarl-1.17.1-cp312-cp312-win_amd64.whl (89 kB)\n",
      "Using cached propcache-0.2.0-cp312-cp312-win_amd64.whl (44 kB)\n",
      "Using cached regex-2024.9.11-cp312-cp312-win_amd64.whl (273 kB)\n",
      "Using cached toolz-1.0.0-py3-none-any.whl (56 kB)\n",
      "Installing collected packages: ckzg, bitarray, websockets, urllib3, typing-extensions, toolz, regex, pyunormalize, pycryptodome, propcache, multidict, idna, hexbytes, frozenlist, eth-hash, charset-normalizer, certifi, attrs, annotated-types, aiohappyeyeballs, yarl, types-requests, requests, pydantic-core, parsimonious, eth-typing, cytoolz, aiosignal, pydantic, eth-utils, aiohttp, rlp, eth-keys, eth-abi, eth-rlp, eth-keyfile, eth-account, web3\n",
      "Successfully installed aiohappyeyeballs-2.4.3 aiohttp-3.10.10 aiosignal-1.3.1 annotated-types-0.7.0 attrs-24.2.0 bitarray-3.0.0 certifi-2024.8.30 charset-normalizer-3.4.0 ckzg-2.0.1 cytoolz-1.0.0 eth-abi-5.1.0 eth-account-0.13.4 eth-hash-0.7.0 eth-keyfile-0.8.1 eth-keys-0.6.0 eth-rlp-2.1.0 eth-typing-5.0.1 eth-utils-5.1.0 frozenlist-1.5.0 hexbytes-1.2.1 idna-3.10 multidict-6.1.0 parsimonious-0.10.0 propcache-0.2.0 pycryptodome-3.21.0 pydantic-2.9.2 pydantic-core-2.23.4 pyunormalize-16.0.0 regex-2024.9.11 requests-2.32.3 rlp-4.0.1 toolz-1.0.0 types-requests-2.32.0.20241016 typing-extensions-4.12.2 urllib3-2.2.3 web3-7.4.0 websockets-13.1 yarl-1.17.1\n",
      "Note: you may need to restart the kernel to use updated packages.\n"
     ]
    },
    {
     "name": "stderr",
     "output_type": "stream",
     "text": [
      "\n",
      "[notice] A new release of pip is available: 24.2 -> 24.3.1\n",
      "[notice] To update, run: C:\\Users\\PC\\IoT_Security_Project\\AI_Threat_Detection\\env\\Scripts\\python.exe -m pip install --upgrade pip\n"
     ]
    }
   ],
   "source": [
    "%pip install pandas\n",
    "%pip install scikit-learn\n",
    "%pip install web3"
   ]
  },
  {
   "cell_type": "code",
   "execution_count": 9,
   "id": "812b7b00-d5ce-4b91-81c0-58367268f600",
   "metadata": {},
   "outputs": [
    {
     "name": "stdout",
     "output_type": "stream",
     "text": [
      "\n",
      "Data file: Bot_vs_BENIGN.csv\n",
      "Columns available in the dataset: ['Destination Port', 'Flow Duration', 'Total Fwd Packets', 'Total Backward Packets', 'Total Length of Fwd Packets', 'Total Length of Bwd Packets', 'Fwd Packet Length Max', 'Fwd Packet Length Min', 'Fwd Packet Length Mean', 'Fwd Packet Length Std', 'Bwd Packet Length Max', 'Bwd Packet Length Min', 'Bwd Packet Length Mean', 'Bwd Packet Length Std', 'Flow Bytes/s', 'Flow Packets/s', 'Flow IAT Mean', 'Flow IAT Std', 'Flow IAT Max', 'Flow IAT Min', 'Fwd IAT Total', 'Fwd IAT Mean', 'Fwd IAT Std', 'Fwd IAT Max', 'Fwd IAT Min', 'Bwd IAT Total', 'Bwd IAT Mean', 'Bwd IAT Std', 'Bwd IAT Max', 'Bwd IAT Min', 'Fwd PSH Flags', 'Bwd PSH Flags', 'Fwd URG Flags', 'Bwd URG Flags', 'Fwd Header Length', 'Bwd Header Length', 'Fwd Packets/s', 'Bwd Packets/s', 'Min Packet Length', 'Max Packet Length', 'Packet Length Mean', 'Packet Length Std', 'Packet Length Variance', 'FIN Flag Count', 'SYN Flag Count', 'RST Flag Count', 'PSH Flag Count', 'ACK Flag Count', 'URG Flag Count', 'CWE Flag Count', 'ECE Flag Count', 'Down/Up Ratio', 'Average Packet Size', 'Avg Fwd Segment Size', 'Avg Bwd Segment Size', 'Fwd Header Length.1', 'Fwd Avg Bytes/Bulk', 'Fwd Avg Packets/Bulk', 'Fwd Avg Bulk Rate', 'Bwd Avg Bytes/Bulk', 'Bwd Avg Packets/Bulk', 'Bwd Avg Bulk Rate', 'Subflow Fwd Packets', 'Subflow Fwd Bytes', 'Subflow Bwd Packets', 'Subflow Bwd Bytes', 'Init_Win_bytes_forward', 'Init_Win_bytes_backward', 'act_data_pkt_fwd', 'min_seg_size_forward', 'Active Mean', 'Active Std', 'Active Max', 'Active Min', 'Idle Mean', 'Idle Std', 'Idle Max', 'Idle Min', 'Label']\n",
      "Selected features based on importance: ['Init_Win_bytes_forward', 'Destination Port', 'Bwd Packet Length Mean', 'Init_Win_bytes_backward']\n"
     ]
    },
    {
     "name": "stderr",
     "output_type": "stream",
     "text": [
      "C:\\Program Files\\KMSpico\\temp\\ipykernel_6564\\483202837.py:79: SettingWithCopyWarning: \n",
      "A value is trying to be set on a copy of a slice from a DataFrame.\n",
      "Try using .loc[row_indexer,col_indexer] = value instead\n",
      "\n",
      "See the caveats in the documentation: https://pandas.pydata.org/pandas-docs/stable/user_guide/indexing.html#returning-a-view-versus-a-copy\n",
      "  selected_data['Label'] = selected_data['Label'].astype('category')\n"
     ]
    },
    {
     "name": "stdout",
     "output_type": "stream",
     "text": [
      "\n",
      "Data file: DDoS_vs_BENIGN.csv\n",
      "Columns available in the dataset: ['Destination Port', 'Flow Duration', 'Total Fwd Packets', 'Total Backward Packets', 'Total Length of Fwd Packets', 'Total Length of Bwd Packets', 'Fwd Packet Length Max', 'Fwd Packet Length Min', 'Fwd Packet Length Mean', 'Fwd Packet Length Std', 'Bwd Packet Length Max', 'Bwd Packet Length Min', 'Bwd Packet Length Mean', 'Bwd Packet Length Std', 'Flow Bytes/s', 'Flow Packets/s', 'Flow IAT Mean', 'Flow IAT Std', 'Flow IAT Max', 'Flow IAT Min', 'Fwd IAT Total', 'Fwd IAT Mean', 'Fwd IAT Std', 'Fwd IAT Max', 'Fwd IAT Min', 'Bwd IAT Total', 'Bwd IAT Mean', 'Bwd IAT Std', 'Bwd IAT Max', 'Bwd IAT Min', 'Fwd PSH Flags', 'Bwd PSH Flags', 'Fwd URG Flags', 'Bwd URG Flags', 'Fwd Header Length', 'Bwd Header Length', 'Fwd Packets/s', 'Bwd Packets/s', 'Min Packet Length', 'Max Packet Length', 'Packet Length Mean', 'Packet Length Std', 'Packet Length Variance', 'FIN Flag Count', 'SYN Flag Count', 'RST Flag Count', 'PSH Flag Count', 'ACK Flag Count', 'URG Flag Count', 'CWE Flag Count', 'ECE Flag Count', 'Down/Up Ratio', 'Average Packet Size', 'Avg Fwd Segment Size', 'Avg Bwd Segment Size', 'Fwd Header Length.1', 'Fwd Avg Bytes/Bulk', 'Fwd Avg Packets/Bulk', 'Fwd Avg Bulk Rate', 'Bwd Avg Bytes/Bulk', 'Bwd Avg Packets/Bulk', 'Bwd Avg Bulk Rate', 'Subflow Fwd Packets', 'Subflow Fwd Bytes', 'Subflow Bwd Packets', 'Subflow Bwd Bytes', 'Init_Win_bytes_forward', 'Init_Win_bytes_backward', 'act_data_pkt_fwd', 'min_seg_size_forward', 'Active Mean', 'Active Std', 'Active Max', 'Active Min', 'Idle Mean', 'Idle Std', 'Idle Max', 'Idle Min', 'Label']\n",
      "Selected features based on importance: ['Avg Bwd Segment Size', 'Bwd Packet Length Max', 'Max Packet Length', 'Packet Length Variance']\n"
     ]
    },
    {
     "name": "stderr",
     "output_type": "stream",
     "text": [
      "C:\\Program Files\\KMSpico\\temp\\ipykernel_6564\\483202837.py:79: SettingWithCopyWarning: \n",
      "A value is trying to be set on a copy of a slice from a DataFrame.\n",
      "Try using .loc[row_indexer,col_indexer] = value instead\n",
      "\n",
      "See the caveats in the documentation: https://pandas.pydata.org/pandas-docs/stable/user_guide/indexing.html#returning-a-view-versus-a-copy\n",
      "  selected_data['Label'] = selected_data['Label'].astype('category')\n"
     ]
    },
    {
     "name": "stdout",
     "output_type": "stream",
     "text": [
      "\n",
      "Data file: DoS GoldenEye_vs_BENIGN.csv\n",
      "Columns available in the dataset: ['Destination Port', 'Flow Duration', 'Total Fwd Packets', 'Total Backward Packets', 'Total Length of Fwd Packets', 'Total Length of Bwd Packets', 'Fwd Packet Length Max', 'Fwd Packet Length Min', 'Fwd Packet Length Mean', 'Fwd Packet Length Std', 'Bwd Packet Length Max', 'Bwd Packet Length Min', 'Bwd Packet Length Mean', 'Bwd Packet Length Std', 'Flow Bytes/s', 'Flow Packets/s', 'Flow IAT Mean', 'Flow IAT Std', 'Flow IAT Max', 'Flow IAT Min', 'Fwd IAT Total', 'Fwd IAT Mean', 'Fwd IAT Std', 'Fwd IAT Max', 'Fwd IAT Min', 'Bwd IAT Total', 'Bwd IAT Mean', 'Bwd IAT Std', 'Bwd IAT Max', 'Bwd IAT Min', 'Fwd PSH Flags', 'Bwd PSH Flags', 'Fwd URG Flags', 'Bwd URG Flags', 'Fwd Header Length', 'Bwd Header Length', 'Fwd Packets/s', 'Bwd Packets/s', 'Min Packet Length', 'Max Packet Length', 'Packet Length Mean', 'Packet Length Std', 'Packet Length Variance', 'FIN Flag Count', 'SYN Flag Count', 'RST Flag Count', 'PSH Flag Count', 'ACK Flag Count', 'URG Flag Count', 'CWE Flag Count', 'ECE Flag Count', 'Down/Up Ratio', 'Average Packet Size', 'Avg Fwd Segment Size', 'Avg Bwd Segment Size', 'Fwd Header Length.1', 'Fwd Avg Bytes/Bulk', 'Fwd Avg Packets/Bulk', 'Fwd Avg Bulk Rate', 'Bwd Avg Bytes/Bulk', 'Bwd Avg Packets/Bulk', 'Bwd Avg Bulk Rate', 'Subflow Fwd Packets', 'Subflow Fwd Bytes', 'Subflow Bwd Packets', 'Subflow Bwd Bytes', 'Init_Win_bytes_forward', 'Init_Win_bytes_backward', 'act_data_pkt_fwd', 'min_seg_size_forward', 'Active Mean', 'Active Std', 'Active Max', 'Active Min', 'Idle Mean', 'Idle Std', 'Idle Max', 'Idle Min', 'Label']\n",
      "Selected features based on importance: ['Bwd Packet Length Std', 'Bwd Packet Length Max', 'Avg Bwd Segment Size', 'Bwd Packet Length Mean']\n"
     ]
    },
    {
     "name": "stderr",
     "output_type": "stream",
     "text": [
      "C:\\Program Files\\KMSpico\\temp\\ipykernel_6564\\483202837.py:79: SettingWithCopyWarning: \n",
      "A value is trying to be set on a copy of a slice from a DataFrame.\n",
      "Try using .loc[row_indexer,col_indexer] = value instead\n",
      "\n",
      "See the caveats in the documentation: https://pandas.pydata.org/pandas-docs/stable/user_guide/indexing.html#returning-a-view-versus-a-copy\n",
      "  selected_data['Label'] = selected_data['Label'].astype('category')\n",
      "C:\\Users\\PC\\IoT_Security_Project\\AI_Threat_Detection\\env\\Lib\\site-packages\\sklearn\\discriminant_analysis.py:947: UserWarning: Variables are collinear\n",
      "  warnings.warn(\"Variables are collinear\")\n"
     ]
    },
    {
     "name": "stdout",
     "output_type": "stream",
     "text": [
      "\n",
      "Data file: DoS Hulk_vs_BENIGN.csv\n",
      "Columns available in the dataset: ['Destination Port', 'Flow Duration', 'Total Fwd Packets', 'Total Backward Packets', 'Total Length of Fwd Packets', 'Total Length of Bwd Packets', 'Fwd Packet Length Max', 'Fwd Packet Length Min', 'Fwd Packet Length Mean', 'Fwd Packet Length Std', 'Bwd Packet Length Max', 'Bwd Packet Length Min', 'Bwd Packet Length Mean', 'Bwd Packet Length Std', 'Flow Bytes/s', 'Flow Packets/s', 'Flow IAT Mean', 'Flow IAT Std', 'Flow IAT Max', 'Flow IAT Min', 'Fwd IAT Total', 'Fwd IAT Mean', 'Fwd IAT Std', 'Fwd IAT Max', 'Fwd IAT Min', 'Bwd IAT Total', 'Bwd IAT Mean', 'Bwd IAT Std', 'Bwd IAT Max', 'Bwd IAT Min', 'Fwd PSH Flags', 'Bwd PSH Flags', 'Fwd URG Flags', 'Bwd URG Flags', 'Fwd Header Length', 'Bwd Header Length', 'Fwd Packets/s', 'Bwd Packets/s', 'Min Packet Length', 'Max Packet Length', 'Packet Length Mean', 'Packet Length Std', 'Packet Length Variance', 'FIN Flag Count', 'SYN Flag Count', 'RST Flag Count', 'PSH Flag Count', 'ACK Flag Count', 'URG Flag Count', 'CWE Flag Count', 'ECE Flag Count', 'Down/Up Ratio', 'Average Packet Size', 'Avg Fwd Segment Size', 'Avg Bwd Segment Size', 'Fwd Header Length.1', 'Fwd Avg Bytes/Bulk', 'Fwd Avg Packets/Bulk', 'Fwd Avg Bulk Rate', 'Bwd Avg Bytes/Bulk', 'Bwd Avg Packets/Bulk', 'Bwd Avg Bulk Rate', 'Subflow Fwd Packets', 'Subflow Fwd Bytes', 'Subflow Bwd Packets', 'Subflow Bwd Bytes', 'Init_Win_bytes_forward', 'Init_Win_bytes_backward', 'act_data_pkt_fwd', 'min_seg_size_forward', 'Active Mean', 'Active Std', 'Active Max', 'Active Min', 'Idle Mean', 'Idle Std', 'Idle Max', 'Idle Min', 'Label']\n",
      "Selected features based on importance: ['Avg Bwd Segment Size', 'Bwd Packet Length Max', 'Bwd Packet Length Std', 'Destination Port']\n"
     ]
    },
    {
     "name": "stderr",
     "output_type": "stream",
     "text": [
      "C:\\Program Files\\KMSpico\\temp\\ipykernel_6564\\483202837.py:79: SettingWithCopyWarning: \n",
      "A value is trying to be set on a copy of a slice from a DataFrame.\n",
      "Try using .loc[row_indexer,col_indexer] = value instead\n",
      "\n",
      "See the caveats in the documentation: https://pandas.pydata.org/pandas-docs/stable/user_guide/indexing.html#returning-a-view-versus-a-copy\n",
      "  selected_data['Label'] = selected_data['Label'].astype('category')\n",
      "C:\\Users\\PC\\IoT_Security_Project\\AI_Threat_Detection\\env\\Lib\\site-packages\\sklearn\\discriminant_analysis.py:947: UserWarning: Variables are collinear\n",
      "  warnings.warn(\"Variables are collinear\")\n"
     ]
    },
    {
     "name": "stdout",
     "output_type": "stream",
     "text": [
      "\n",
      "Data file: DoS Slowhttptest_vs_BENIGN.csv\n",
      "Columns available in the dataset: ['Destination Port', 'Flow Duration', 'Total Fwd Packets', 'Total Backward Packets', 'Total Length of Fwd Packets', 'Total Length of Bwd Packets', 'Fwd Packet Length Max', 'Fwd Packet Length Min', 'Fwd Packet Length Mean', 'Fwd Packet Length Std', 'Bwd Packet Length Max', 'Bwd Packet Length Min', 'Bwd Packet Length Mean', 'Bwd Packet Length Std', 'Flow Bytes/s', 'Flow Packets/s', 'Flow IAT Mean', 'Flow IAT Std', 'Flow IAT Max', 'Flow IAT Min', 'Fwd IAT Total', 'Fwd IAT Mean', 'Fwd IAT Std', 'Fwd IAT Max', 'Fwd IAT Min', 'Bwd IAT Total', 'Bwd IAT Mean', 'Bwd IAT Std', 'Bwd IAT Max', 'Bwd IAT Min', 'Fwd PSH Flags', 'Bwd PSH Flags', 'Fwd URG Flags', 'Bwd URG Flags', 'Fwd Header Length', 'Bwd Header Length', 'Fwd Packets/s', 'Bwd Packets/s', 'Min Packet Length', 'Max Packet Length', 'Packet Length Mean', 'Packet Length Std', 'Packet Length Variance', 'FIN Flag Count', 'SYN Flag Count', 'RST Flag Count', 'PSH Flag Count', 'ACK Flag Count', 'URG Flag Count', 'CWE Flag Count', 'ECE Flag Count', 'Down/Up Ratio', 'Average Packet Size', 'Avg Fwd Segment Size', 'Avg Bwd Segment Size', 'Fwd Header Length.1', 'Fwd Avg Bytes/Bulk', 'Fwd Avg Packets/Bulk', 'Fwd Avg Bulk Rate', 'Bwd Avg Bytes/Bulk', 'Bwd Avg Packets/Bulk', 'Bwd Avg Bulk Rate', 'Subflow Fwd Packets', 'Subflow Fwd Bytes', 'Subflow Bwd Packets', 'Subflow Bwd Bytes', 'Init_Win_bytes_forward', 'Init_Win_bytes_backward', 'act_data_pkt_fwd', 'min_seg_size_forward', 'Active Mean', 'Active Std', 'Active Max', 'Active Min', 'Idle Mean', 'Idle Std', 'Idle Max', 'Idle Min', 'Label']\n",
      "Selected features based on importance: ['Active Min', 'Destination Port', 'Active Max', 'Bwd IAT Std']\n"
     ]
    },
    {
     "name": "stderr",
     "output_type": "stream",
     "text": [
      "C:\\Program Files\\KMSpico\\temp\\ipykernel_6564\\483202837.py:79: SettingWithCopyWarning: \n",
      "A value is trying to be set on a copy of a slice from a DataFrame.\n",
      "Try using .loc[row_indexer,col_indexer] = value instead\n",
      "\n",
      "See the caveats in the documentation: https://pandas.pydata.org/pandas-docs/stable/user_guide/indexing.html#returning-a-view-versus-a-copy\n",
      "  selected_data['Label'] = selected_data['Label'].astype('category')\n",
      "C:\\Users\\PC\\IoT_Security_Project\\AI_Threat_Detection\\env\\Lib\\site-packages\\sklearn\\discriminant_analysis.py:947: UserWarning: Variables are collinear\n",
      "  warnings.warn(\"Variables are collinear\")\n"
     ]
    },
    {
     "name": "stdout",
     "output_type": "stream",
     "text": [
      "\n",
      "Data file: DoS slowloris_vs_BENIGN.csv\n",
      "Columns available in the dataset: ['Destination Port', 'Flow Duration', 'Total Fwd Packets', 'Total Backward Packets', 'Total Length of Fwd Packets', 'Total Length of Bwd Packets', 'Fwd Packet Length Max', 'Fwd Packet Length Min', 'Fwd Packet Length Mean', 'Fwd Packet Length Std', 'Bwd Packet Length Max', 'Bwd Packet Length Min', 'Bwd Packet Length Mean', 'Bwd Packet Length Std', 'Flow Bytes/s', 'Flow Packets/s', 'Flow IAT Mean', 'Flow IAT Std', 'Flow IAT Max', 'Flow IAT Min', 'Fwd IAT Total', 'Fwd IAT Mean', 'Fwd IAT Std', 'Fwd IAT Max', 'Fwd IAT Min', 'Bwd IAT Total', 'Bwd IAT Mean', 'Bwd IAT Std', 'Bwd IAT Max', 'Bwd IAT Min', 'Fwd PSH Flags', 'Bwd PSH Flags', 'Fwd URG Flags', 'Bwd URG Flags', 'Fwd Header Length', 'Bwd Header Length', 'Fwd Packets/s', 'Bwd Packets/s', 'Min Packet Length', 'Max Packet Length', 'Packet Length Mean', 'Packet Length Std', 'Packet Length Variance', 'FIN Flag Count', 'SYN Flag Count', 'RST Flag Count', 'PSH Flag Count', 'ACK Flag Count', 'URG Flag Count', 'CWE Flag Count', 'ECE Flag Count', 'Down/Up Ratio', 'Average Packet Size', 'Avg Fwd Segment Size', 'Avg Bwd Segment Size', 'Fwd Header Length.1', 'Fwd Avg Bytes/Bulk', 'Fwd Avg Packets/Bulk', 'Fwd Avg Bulk Rate', 'Bwd Avg Bytes/Bulk', 'Bwd Avg Packets/Bulk', 'Bwd Avg Bulk Rate', 'Subflow Fwd Packets', 'Subflow Fwd Bytes', 'Subflow Bwd Packets', 'Subflow Bwd Bytes', 'Init_Win_bytes_forward', 'Init_Win_bytes_backward', 'act_data_pkt_fwd', 'min_seg_size_forward', 'Active Mean', 'Active Std', 'Active Max', 'Active Min', 'Idle Mean', 'Idle Std', 'Idle Max', 'Idle Min', 'Label']\n",
      "Selected features based on importance: ['Flow IAT Std', 'Total Length of Bwd Packets', 'Flow IAT Max', 'Active Std']\n"
     ]
    },
    {
     "name": "stderr",
     "output_type": "stream",
     "text": [
      "C:\\Program Files\\KMSpico\\temp\\ipykernel_6564\\483202837.py:79: SettingWithCopyWarning: \n",
      "A value is trying to be set on a copy of a slice from a DataFrame.\n",
      "Try using .loc[row_indexer,col_indexer] = value instead\n",
      "\n",
      "See the caveats in the documentation: https://pandas.pydata.org/pandas-docs/stable/user_guide/indexing.html#returning-a-view-versus-a-copy\n",
      "  selected_data['Label'] = selected_data['Label'].astype('category')\n"
     ]
    },
    {
     "name": "stdout",
     "output_type": "stream",
     "text": [
      "\n",
      "Data file: FTP-Patator_vs_BENIGN.csv\n",
      "Columns available in the dataset: ['Destination Port', 'Flow Duration', 'Total Fwd Packets', 'Total Backward Packets', 'Total Length of Fwd Packets', 'Total Length of Bwd Packets', 'Fwd Packet Length Max', 'Fwd Packet Length Min', 'Fwd Packet Length Mean', 'Fwd Packet Length Std', 'Bwd Packet Length Max', 'Bwd Packet Length Min', 'Bwd Packet Length Mean', 'Bwd Packet Length Std', 'Flow Bytes/s', 'Flow Packets/s', 'Flow IAT Mean', 'Flow IAT Std', 'Flow IAT Max', 'Flow IAT Min', 'Fwd IAT Total', 'Fwd IAT Mean', 'Fwd IAT Std', 'Fwd IAT Max', 'Fwd IAT Min', 'Bwd IAT Total', 'Bwd IAT Mean', 'Bwd IAT Std', 'Bwd IAT Max', 'Bwd IAT Min', 'Fwd PSH Flags', 'Bwd PSH Flags', 'Fwd URG Flags', 'Bwd URG Flags', 'Fwd Header Length', 'Bwd Header Length', 'Fwd Packets/s', 'Bwd Packets/s', 'Min Packet Length', 'Max Packet Length', 'Packet Length Mean', 'Packet Length Std', 'Packet Length Variance', 'FIN Flag Count', 'SYN Flag Count', 'RST Flag Count', 'PSH Flag Count', 'ACK Flag Count', 'URG Flag Count', 'CWE Flag Count', 'ECE Flag Count', 'Down/Up Ratio', 'Average Packet Size', 'Avg Fwd Segment Size', 'Avg Bwd Segment Size', 'Fwd Header Length.1', 'Fwd Avg Bytes/Bulk', 'Fwd Avg Packets/Bulk', 'Fwd Avg Bulk Rate', 'Bwd Avg Bytes/Bulk', 'Bwd Avg Packets/Bulk', 'Bwd Avg Bulk Rate', 'Subflow Fwd Packets', 'Subflow Fwd Bytes', 'Subflow Bwd Packets', 'Subflow Bwd Bytes', 'Init_Win_bytes_forward', 'Init_Win_bytes_backward', 'act_data_pkt_fwd', 'min_seg_size_forward', 'Active Mean', 'Active Std', 'Active Max', 'Active Min', 'Idle Mean', 'Idle Std', 'Idle Max', 'Idle Min', 'Label']\n",
      "Selected features based on importance: ['Destination Port', 'Fwd Packet Length Max', 'Fwd Packet Length Mean', 'Subflow Fwd Bytes']\n"
     ]
    },
    {
     "name": "stderr",
     "output_type": "stream",
     "text": [
      "C:\\Program Files\\KMSpico\\temp\\ipykernel_6564\\483202837.py:79: SettingWithCopyWarning: \n",
      "A value is trying to be set on a copy of a slice from a DataFrame.\n",
      "Try using .loc[row_indexer,col_indexer] = value instead\n",
      "\n",
      "See the caveats in the documentation: https://pandas.pydata.org/pandas-docs/stable/user_guide/indexing.html#returning-a-view-versus-a-copy\n",
      "  selected_data['Label'] = selected_data['Label'].astype('category')\n"
     ]
    },
    {
     "name": "stdout",
     "output_type": "stream",
     "text": [
      "\n",
      "Data file: PortScan_vs_BENIGN.csv\n",
      "Columns available in the dataset: ['Destination Port', 'Flow Duration', 'Total Fwd Packets', 'Total Backward Packets', 'Total Length of Fwd Packets', 'Total Length of Bwd Packets', 'Fwd Packet Length Max', 'Fwd Packet Length Min', 'Fwd Packet Length Mean', 'Fwd Packet Length Std', 'Bwd Packet Length Max', 'Bwd Packet Length Min', 'Bwd Packet Length Mean', 'Bwd Packet Length Std', 'Flow Bytes/s', 'Flow Packets/s', 'Flow IAT Mean', 'Flow IAT Std', 'Flow IAT Max', 'Flow IAT Min', 'Fwd IAT Total', 'Fwd IAT Mean', 'Fwd IAT Std', 'Fwd IAT Max', 'Fwd IAT Min', 'Bwd IAT Total', 'Bwd IAT Mean', 'Bwd IAT Std', 'Bwd IAT Max', 'Bwd IAT Min', 'Fwd PSH Flags', 'Bwd PSH Flags', 'Fwd URG Flags', 'Bwd URG Flags', 'Fwd Header Length', 'Bwd Header Length', 'Fwd Packets/s', 'Bwd Packets/s', 'Min Packet Length', 'Max Packet Length', 'Packet Length Mean', 'Packet Length Std', 'Packet Length Variance', 'FIN Flag Count', 'SYN Flag Count', 'RST Flag Count', 'PSH Flag Count', 'ACK Flag Count', 'URG Flag Count', 'CWE Flag Count', 'ECE Flag Count', 'Down/Up Ratio', 'Average Packet Size', 'Avg Fwd Segment Size', 'Avg Bwd Segment Size', 'Fwd Header Length.1', 'Fwd Avg Bytes/Bulk', 'Fwd Avg Packets/Bulk', 'Fwd Avg Bulk Rate', 'Bwd Avg Bytes/Bulk', 'Bwd Avg Packets/Bulk', 'Bwd Avg Bulk Rate', 'Subflow Fwd Packets', 'Subflow Fwd Bytes', 'Subflow Bwd Packets', 'Subflow Bwd Bytes', 'Init_Win_bytes_forward', 'Init_Win_bytes_backward', 'act_data_pkt_fwd', 'min_seg_size_forward', 'Active Mean', 'Active Std', 'Active Max', 'Active Min', 'Idle Mean', 'Idle Std', 'Idle Max', 'Idle Min', 'Label']\n",
      "Selected features based on importance: ['Bwd Packets/s', 'Packet Length Std', 'Packet Length Mean', 'PSH Flag Count']\n"
     ]
    },
    {
     "name": "stderr",
     "output_type": "stream",
     "text": [
      "C:\\Program Files\\KMSpico\\temp\\ipykernel_6564\\483202837.py:79: SettingWithCopyWarning: \n",
      "A value is trying to be set on a copy of a slice from a DataFrame.\n",
      "Try using .loc[row_indexer,col_indexer] = value instead\n",
      "\n",
      "See the caveats in the documentation: https://pandas.pydata.org/pandas-docs/stable/user_guide/indexing.html#returning-a-view-versus-a-copy\n",
      "  selected_data['Label'] = selected_data['Label'].astype('category')\n"
     ]
    },
    {
     "name": "stdout",
     "output_type": "stream",
     "text": [
      "\n",
      "Data file: SSH-Patator_vs_BENIGN.csv\n",
      "Columns available in the dataset: ['Destination Port', 'Flow Duration', 'Total Fwd Packets', 'Total Backward Packets', 'Total Length of Fwd Packets', 'Total Length of Bwd Packets', 'Fwd Packet Length Max', 'Fwd Packet Length Min', 'Fwd Packet Length Mean', 'Fwd Packet Length Std', 'Bwd Packet Length Max', 'Bwd Packet Length Min', 'Bwd Packet Length Mean', 'Bwd Packet Length Std', 'Flow Bytes/s', 'Flow Packets/s', 'Flow IAT Mean', 'Flow IAT Std', 'Flow IAT Max', 'Flow IAT Min', 'Fwd IAT Total', 'Fwd IAT Mean', 'Fwd IAT Std', 'Fwd IAT Max', 'Fwd IAT Min', 'Bwd IAT Total', 'Bwd IAT Mean', 'Bwd IAT Std', 'Bwd IAT Max', 'Bwd IAT Min', 'Fwd PSH Flags', 'Bwd PSH Flags', 'Fwd URG Flags', 'Bwd URG Flags', 'Fwd Header Length', 'Bwd Header Length', 'Fwd Packets/s', 'Bwd Packets/s', 'Min Packet Length', 'Max Packet Length', 'Packet Length Mean', 'Packet Length Std', 'Packet Length Variance', 'FIN Flag Count', 'SYN Flag Count', 'RST Flag Count', 'PSH Flag Count', 'ACK Flag Count', 'URG Flag Count', 'CWE Flag Count', 'ECE Flag Count', 'Down/Up Ratio', 'Average Packet Size', 'Avg Fwd Segment Size', 'Avg Bwd Segment Size', 'Fwd Header Length.1', 'Fwd Avg Bytes/Bulk', 'Fwd Avg Packets/Bulk', 'Fwd Avg Bulk Rate', 'Bwd Avg Bytes/Bulk', 'Bwd Avg Packets/Bulk', 'Bwd Avg Bulk Rate', 'Subflow Fwd Packets', 'Subflow Fwd Bytes', 'Subflow Bwd Packets', 'Subflow Bwd Bytes', 'Init_Win_bytes_forward', 'Init_Win_bytes_backward', 'act_data_pkt_fwd', 'min_seg_size_forward', 'Active Mean', 'Active Std', 'Active Max', 'Active Min', 'Idle Mean', 'Idle Std', 'Idle Max', 'Idle Min', 'Label']\n",
      "Selected features based on importance: ['Destination Port', 'Init_Win_bytes_backward', 'Init_Win_bytes_forward', 'Fwd Packets/s']\n"
     ]
    },
    {
     "name": "stderr",
     "output_type": "stream",
     "text": [
      "C:\\Program Files\\KMSpico\\temp\\ipykernel_6564\\483202837.py:79: SettingWithCopyWarning: \n",
      "A value is trying to be set on a copy of a slice from a DataFrame.\n",
      "Try using .loc[row_indexer,col_indexer] = value instead\n",
      "\n",
      "See the caveats in the documentation: https://pandas.pydata.org/pandas-docs/stable/user_guide/indexing.html#returning-a-view-versus-a-copy\n",
      "  selected_data['Label'] = selected_data['Label'].astype('category')\n",
      "C:\\Users\\PC\\IoT_Security_Project\\AI_Threat_Detection\\env\\Lib\\site-packages\\sklearn\\discriminant_analysis.py:947: UserWarning: Variables are collinear\n",
      "  warnings.warn(\"Variables are collinear\")\n"
     ]
    },
    {
     "name": "stdout",
     "output_type": "stream",
     "text": [
      "Evaluation Results:\n",
      "        Attack Type  Naive Bayes Accuracy  QDA Accuracy  MLP Accuracy\n",
      "0               Bot              0.998870      0.998870      0.999250\n",
      "1              DDoS              0.932720      0.951301      0.974867\n",
      "2     DoS GoldenEye              0.955974      0.933303      0.997804\n",
      "3          DoS Hulk              0.906378      0.906451      0.958199\n",
      "4  DoS Slowhttptest              0.990503      0.894547      0.998605\n",
      "5     DoS slowloris              0.967440      0.967379      0.997623\n",
      "6       FTP-Patator              0.994756      0.998447      0.999896\n",
      "7          PortScan              0.937511      0.939901      0.987771\n",
      "8       SSH-Patator              0.993173      0.995212      0.997565\n"
     ]
    }
   ],
   "source": [
    "\n",
    "import pandas as pd\n",
    "from sklearn.model_selection import train_test_split\n",
    "from sklearn.naive_bayes import GaussianNB\n",
    "from sklearn.discriminant_analysis import QuadraticDiscriminantAnalysis\n",
    "from sklearn.neural_network import MLPClassifier\n",
    "from sklearn.metrics import accuracy_score\n",
    "from web3 import Web3\n",
    "import json\n",
    "\n",
    "# Connect to local blockchain\n",
    "w3 = Web3(Web3.HTTPProvider('http://localhost:8545'))\n",
    "\n",
    "# Load contract ABI and bytecode\n",
    "artifacts_path = 'C:/Users/PC/IoT_Security_Project/BlockchainProject/artifacts/contracts/IoTData.sol/IoTData.json'\n",
    "with open(artifacts_path) as artifacts_file:\n",
    "    artifacts = json.load(artifacts_file)\n",
    "abi = artifacts['abi']\n",
    "bytecode = artifacts['bytecode']\n",
    "\n",
    "# Manually set the contract address (hardcoded)\n",
    "contract_address = \"0x5fbdb2315678afecb367f032d93f642f64180aa3\".strip()\n",
    "\n",
    "# Convert the address to checksum format\n",
    "contract_address_checksum = w3.to_checksum_address(contract_address)\n",
    "\n",
    "# Initialize contract instance\n",
    "contract = w3.eth.contract(address=contract_address_checksum, abi=abi)\n",
    "# Function to log attack results on the blockchain\n",
    "def log_attack_result(attack_type, threat_level):\n",
    "    tx_hash = contract.functions.logAttack(attack_type, threat_level).transact({\n",
    "        'from': w3.eth.accounts[0]\n",
    "    })\n",
    "    w3.eth.wait_for_transaction_receipt(tx_hash)\n",
    "    print(f\"Logged {attack_type} with threat level {threat_level} to blockchain.\")\n",
    "\n",
    "\n",
    "# List of attack types and benign label\n",
    "attack_types = [\"Bot\", \"DDoS\", \"DoS GoldenEye\", \"DoS Hulk\", \"DoS Slowhttptest\", \"DoS slowloris\", \"FTP-Patator\",\n",
    "                \"PortScan\", \"SSH-Patator\"]\n",
    "benign_type = \"BENIGN\"\n",
    "\n",
    "# Initialize an empty list to store results as dictionaries\n",
    "results = []\n",
    "\n",
    "# Loop through each attack type\n",
    "for attack_type in attack_types:\n",
    "    try:\n",
    "        # Read the feature importance file\n",
    "        importance_file = f\"{attack_type}_importance.csv\"\n",
    "        importance_data = pd.read_csv(importance_file)\n",
    "        \n",
    "        # Select the first 4 features from the feature importance file\n",
    "        selected_features = importance_data['Feature'][:4].tolist()\n",
    "        \n",
    "        # Read the data file\n",
    "        data_file = f\"{attack_type}_vs_{benign_type}.csv\"\n",
    "        data = pd.read_csv(data_file)\n",
    "        \n",
    "        # Strip whitespace from column names\n",
    "        data.columns = data.columns.str.strip()\n",
    "        \n",
    "        # Check available columns and selected features\n",
    "        print(f\"\\nData file: {data_file}\")\n",
    "        print(\"Columns available in the dataset:\", data.columns.tolist())\n",
    "        print(\"Selected features based on importance:\", selected_features)\n",
    "\n",
    "        # Filter only the features that are available in the dataset\n",
    "        available_features = [feature for feature in selected_features if feature in data.columns]\n",
    "        \n",
    "        # Check if 'Label' column exists and if we have at least 2 features to proceed\n",
    "        if 'Label' not in data.columns or len(available_features) < 2:\n",
    "            print(f\"Warning: Required columns (including Label) missing in {data_file}. Skipping this file.\")\n",
    "            continue\n",
    "        \n",
    "        # Select available features and the target column\n",
    "        selected_data = data[available_features + ['Label']]\n",
    "        \n",
    "        # Ensure the Label column is of categorical type (convert if necessary)\n",
    "        selected_data['Label'] = selected_data['Label'].astype('category')\n",
    "        \n",
    "        # Split the data into features (X) and target (y)\n",
    "        X = selected_data[available_features]\n",
    "        y = selected_data['Label']\n",
    "        \n",
    "        # Split the data into training and testing sets\n",
    "        X_train, X_test, y_train, y_test = train_test_split(X, y, test_size=0.4, random_state=42)\n",
    "        \n",
    "        # Train Naive Bayes\n",
    "        nb_model = GaussianNB()\n",
    "        nb_model.fit(X_train, y_train)\n",
    "        \n",
    "        # Train Quadratic Discriminant Analysis\n",
    "        qda_model = QuadraticDiscriminantAnalysis()\n",
    "        qda_model.fit(X_train, y_train)\n",
    "        \n",
    "        # Train Multi-Layer Perceptron\n",
    "        mlp_model = MLPClassifier(random_state=42, max_iter=1000, learning_rate_init=0.001)\n",
    "        mlp_model.fit(X_train, y_train)\n",
    "        \n",
    "        # Predictions\n",
    "        nb_preds = nb_model.predict(X_test)\n",
    "        qda_preds = qda_model.predict(X_test)\n",
    "        mlp_preds = mlp_model.predict(X_test)\n",
    "        \n",
    "        # Calculate accuracies\n",
    "        nb_accuracy = accuracy_score(y_test, nb_preds)\n",
    "        qda_accuracy = accuracy_score(y_test, qda_preds)\n",
    "        mlp_accuracy = accuracy_score(y_test, mlp_preds)\n",
    "        \n",
    "        # Store the results as a dictionary\n",
    "        result_dict = {\n",
    "            'Attack Type': attack_type,\n",
    "            'Naive Bayes Accuracy': nb_accuracy,\n",
    "            'QDA Accuracy': qda_accuracy,\n",
    "            'MLP Accuracy': mlp_accuracy\n",
    "        }\n",
    "        \n",
    "        # Append the dictionary to the results list\n",
    "        results.append(result_dict)\n",
    "        \n",
    "    except FileNotFoundError as e:\n",
    "        print(f\"File not found: {e.filename}. Skipping this attack type.\")\n",
    "    except Exception as e:\n",
    "        print(f\"Error processing {attack_type}: {e}\")\n",
    "\n",
    "# Create a DataFrame from the results list and save it\n",
    "results_df = pd.DataFrame(results)\n",
    "results_df.to_csv(\"evaluation_results.csv\", index=False)\n",
    "\n",
    "# Display the DataFrame\n",
    "print(\"Evaluation Results:\")\n",
    "print(results_df)\n",
    "\n",
    "#Adapted from https://github.com/yasakrami/Threat-Detection-in-Cyber-Security-Using-AI"
   ]
  },
  {
   "cell_type": "code",
   "execution_count": null,
   "id": "34a918fe-c404-4633-b91e-24b8664fbfa5",
   "metadata": {},
   "outputs": [],
   "source": []
  }
 ],
 "metadata": {
  "kernelspec": {
   "display_name": "Python (AI_Threat_Detection)",
   "language": "python",
   "name": "ai_threat_detection"
  },
  "language_info": {
   "codemirror_mode": {
    "name": "ipython",
    "version": 3
   },
   "file_extension": ".py",
   "mimetype": "text/x-python",
   "name": "python",
   "nbconvert_exporter": "python",
   "pygments_lexer": "ipython3",
   "version": "3.12.5"
  }
 },
 "nbformat": 4,
 "nbformat_minor": 5
}
